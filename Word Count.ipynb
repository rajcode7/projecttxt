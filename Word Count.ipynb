{
 "cells": [
  {
   "cell_type": "markdown",
   "id": "a0276139",
   "metadata": {},
   "source": [
    "### A Program to Count the number of words in a text file"
   ]
  },
  {
   "cell_type": "code",
   "execution_count": 1,
   "id": "09704606",
   "metadata": {},
   "outputs": [
    {
     "name": "stdout",
     "output_type": "stream",
     "text": [
      "50\n"
     ]
    }
   ],
   "source": [
    "count = 1 \n",
    "with open (\"Python2.txt\", \"r\") as f:\n",
    "     for x in f:\n",
    "        for i in x:\n",
    "            if i == \" \":\n",
    "                count += 1\n",
    "            else:\n",
    "                continue\n",
    "                     \n",
    "                \n",
    "print(count)"
   ]
  },
  {
   "cell_type": "code",
   "execution_count": null,
   "id": "84c76129",
   "metadata": {},
   "outputs": [],
   "source": []
  }
 ],
 "metadata": {
  "kernelspec": {
   "display_name": "Python 3 (ipykernel)",
   "language": "python",
   "name": "python3"
  },
  "language_info": {
   "codemirror_mode": {
    "name": "ipython",
    "version": 3
   },
   "file_extension": ".py",
   "mimetype": "text/x-python",
   "name": "python",
   "nbconvert_exporter": "python",
   "pygments_lexer": "ipython3",
   "version": "3.9.12"
  }
 },
 "nbformat": 4,
 "nbformat_minor": 5
}
